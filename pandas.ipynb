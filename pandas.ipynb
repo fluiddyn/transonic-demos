{
 "cells": [
  {
   "cell_type": "markdown",
   "metadata": {},
   "source": [
    "# Enhancing performance of Pandas\n",
    "\n",
    "This demo is adapted from the example in [Pandas documentation](https://pandas.pydata.org/pandas-docs/stable/user_guide/enhancingperf.html). We will investigate how to speed up certain functions operating on pandas DataFrames using three different techniques: Cython, Numba, Pythran (via `transonic`). "
   ]
  },
  {
   "cell_type": "code",
   "execution_count": 1,
   "metadata": {},
   "outputs": [],
   "source": [
    "import numpy as np\n",
    "import pandas as pd\n",
    "\n",
    "df = pd.DataFrame({'a': np.random.randn(1000),\n",
    "                  'b': np.random.randn(1000),\n",
    "                  'N': np.random.randint(100, 1000, (1000)),\n",
    "                  'x': 'x'})"
   ]
  },
  {
   "cell_type": "markdown",
   "metadata": {},
   "source": [
    "Here's the function in pure Python:"
   ]
  },
  {
   "cell_type": "code",
   "execution_count": 18,
   "metadata": {},
   "outputs": [],
   "source": [
    "from transonic import jit\n",
    "\n",
    "def f(x):\n",
    "   return x * (x - 1)\n",
    "\n",
    "def integrate_f(a, b, N):\n",
    "   s = 0\n",
    "   dx = (b - a) / N\n",
    "   for i in range(N):\n",
    "       s += f(a + i * dx)\n",
    "   return s * dx\n",
    "\n",
    "\n",
    "# Jit functions for later use\n",
    "f_cython = jit(backend=\"cython\")(f)\n",
    "f_numba = jit(backend=\"numba\")(f)\n",
    "f_pythran = jit(backend=\"pythran\")(f)\n",
    "\n",
    "integrate_f_cython = jit(backend=\"cython\")(integrate_f)\n",
    "integrate_f_numba = jit(backend=\"numba\")(integrate_f)\n",
    "integrate_f_pythran = jit(backend=\"pythran\")(integrate_f)"
   ]
  },
  {
   "cell_type": "markdown",
   "metadata": {},
   "source": [
    "We achieve our result by using apply (row-wise):"
   ]
  },
  {
   "cell_type": "code",
   "execution_count": 19,
   "metadata": {},
   "outputs": [
    {
     "name": "stdout",
     "output_type": "stream",
     "text": [
      "85.2 ms ± 1.88 ms per loop (mean ± std. dev. of 7 runs, 10 loops each)\n"
     ]
    }
   ],
   "source": [
    "%timeit df.apply(lambda x: integrate_f(x['a'], x['b'], x['N']), axis=1)"
   ]
  },
  {
   "cell_type": "markdown",
   "metadata": {},
   "source": [
    "Let's take a look and see where the time is spent during this operation (limited to the most time consuming four calls) using the prun ipython magic function:"
   ]
  },
  {
   "cell_type": "code",
   "execution_count": 20,
   "metadata": {},
   "outputs": [
    {
     "name": "stdout",
     "output_type": "stream",
     "text": [
      " "
     ]
    },
    {
     "data": {
      "text/plain": [
       "         659732 function calls (654706 primitive calls) in 0.151 seconds\n",
       "\n",
       "   Ordered by: internal time\n",
       "   List reduced from 217 to 4 due to restriction <4>\n",
       "\n",
       "   ncalls  tottime  percall  cumtime  percall filename:lineno(function)\n",
       "     1000    0.073    0.000    0.107    0.000 <ipython-input-18-33c8deee669b>:6(integrate_f)\n",
       "   539827    0.035    0.000    0.035    0.000 <ipython-input-18-33c8deee669b>:3(f)\n",
       "     3000    0.005    0.000    0.029    0.000 base.py:4702(get_value)\n",
       "     3000    0.003    0.000    0.033    0.000 series.py:1068(__getitem__)"
      ]
     },
     "metadata": {},
     "output_type": "display_data"
    }
   ],
   "source": [
    "%prun -l 4 df.apply(lambda x: integrate_f(x['a'], x['b'], x['N']), axis=1)"
   ]
  },
  {
   "cell_type": "markdown",
   "metadata": {},
   "source": [
    "## Enter: `transonic`"
   ]
  },
  {
   "cell_type": "code",
   "execution_count": 21,
   "metadata": {},
   "outputs": [
    {
     "name": "stdout",
     "output_type": "stream",
     "text": [
      "Transonic 0.4.2\n",
      "Pythran 0.9.4post0\n",
      "Numba 0.46.0\n",
      "Cython 0.29.14\n"
     ]
    }
   ],
   "source": [
    "from transonic import wait_for_all_extensions\n",
    "from transonic.util import print_versions, timeit_verbose\n",
    "\n",
    "print_versions()"
   ]
  },
  {
   "cell_type": "markdown",
   "metadata": {},
   "source": [
    "## Cython + transonic"
   ]
  },
  {
   "cell_type": "code",
   "execution_count": 23,
   "metadata": {},
   "outputs": [
    {
     "name": "stderr",
     "output_type": "stream",
     "text": [
      "INFO: Schedule cythonization of file /home/avmo/.transonic/cython/__jit__/__ipython__7c98424550fb42df9527dd5a5f550c17/integrate_f.py\n"
     ]
    },
    {
     "name": "stdout",
     "output_type": "stream",
     "text": [
      "compile extension\n",
      "61.5 ms ± 1.05 ms per loop (mean ± std. dev. of 7 runs, 10 loops each)\n"
     ]
    }
   ],
   "source": [
    "# warmup\n",
    "df.apply(lambda x: integrate_f_cython(x['a'], x['b'], x['N']), axis=1)\n",
    "wait_for_all_extensions()\n",
    "\n",
    "# benchmark\n",
    "%timeit df.apply(lambda x: integrate_f_cython(x['a'], x['b'], x['N']), axis=1)"
   ]
  },
  {
   "cell_type": "markdown",
   "metadata": {},
   "source": [
    "## Numba + transonic"
   ]
  },
  {
   "cell_type": "code",
   "execution_count": 25,
   "metadata": {},
   "outputs": [
    {
     "name": "stdout",
     "output_type": "stream",
     "text": [
      "20.9 ms ± 153 µs per loop (mean ± std. dev. of 7 runs, 10 loops each)\n"
     ]
    }
   ],
   "source": [
    "# warmup\n",
    "df.apply(lambda x: integrate_f_numba(x['a'], x['b'], x['N']), axis=1)\n",
    "wait_for_all_extensions()\n",
    "\n",
    "# benchmark\n",
    "%timeit df.apply(lambda x: integrate_f_numba(x['a'], x['b'], x['N']), axis=1)"
   ]
  },
  {
   "cell_type": "markdown",
   "metadata": {},
   "source": [
    "## Pythran + transonic"
   ]
  },
  {
   "cell_type": "code",
   "execution_count": 26,
   "metadata": {},
   "outputs": [
    {
     "name": "stderr",
     "output_type": "stream",
     "text": [
      "INFO: Schedule pythranization of file /home/avmo/.transonic/pythran/__jit__/__ipython__7c98424550fb42df9527dd5a5f550c17/integrate_f.py\n"
     ]
    },
    {
     "name": "stdout",
     "output_type": "stream",
     "text": [
      "compile extension\n",
      "20.9 ms ± 241 µs per loop (mean ± std. dev. of 7 runs, 10 loops each)\n"
     ]
    }
   ],
   "source": [
    "# warmup\n",
    "df.apply(lambda x: integrate_f_pythran(x['a'], x['b'], x['N']), axis=1)\n",
    "wait_for_all_extensions()\n",
    "\n",
    "# benchmark\n",
    "%timeit df.apply(lambda x: integrate_f_pythran(x['a'], x['b'], x['N']), axis=1)"
   ]
  }
 ],
 "metadata": {
  "kernelspec": {
   "display_name": "Python 3",
   "language": "python",
   "name": "python3"
  },
  "language_info": {
   "codemirror_mode": {
    "name": "ipython",
    "version": 3
   },
   "file_extension": ".py",
   "mimetype": "text/x-python",
   "name": "python",
   "nbconvert_exporter": "python",
   "pygments_lexer": "ipython3",
   "version": "3.7.5"
  }
 },
 "nbformat": 4,
 "nbformat_minor": 4
}
