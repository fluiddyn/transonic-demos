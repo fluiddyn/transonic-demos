{
 "cells": [
  {
   "cell_type": "markdown",
   "metadata": {},
   "source": [
    "# Enhancing performance of Pandas\n",
    "\n",
    "This demo is adapted from the example in [Pandas documentation](https://pandas.pydata.org/pandas-docs/stable/user_guide/enhancingperf.html). We will investigate how to speed up certain functions operating on pandas DataFrames using three different techniques: Cython, Numba, Pythran (via `transonic`). "
   ]
  },
  {
   "cell_type": "code",
   "execution_count": null,
   "metadata": {},
   "outputs": [],
   "source": [
    "import numpy as np\n",
    "import pandas as pd\n",
    "\n",
    "df = pd.DataFrame({'a': np.random.randn(1000),\n",
    "                  'b': np.random.randn(1000),\n",
    "                  'N': np.random.randint(100, 1000, (1000)),\n",
    "                  'x': 'x'})"
   ]
  },
  {
   "cell_type": "markdown",
   "metadata": {},
   "source": [
    "Here's the function in pure Python:"
   ]
  },
  {
   "cell_type": "code",
   "execution_count": null,
   "metadata": {},
   "outputs": [],
   "source": [
    "from transonic import jit\n",
    "\n",
    "def f(x):\n",
    "    return x * (x - 1)\n",
    "\n",
    "def integrate_f(a, b, N):\n",
    "    s = 0\n",
    "    dx = (b - a) / N\n",
    "    for i in range(N):\n",
    "       s += f(a + i * dx)\n",
    "    return s * dx\n",
    "\n",
    "\n",
    "# JIT functions for later use\n",
    "# Note: f(x) will be automatically included in the modules\n",
    "integrate_f_cython = jit(backend=\"cython\")(integrate_f)\n",
    "integrate_f_numba = jit(backend=\"numba\")(integrate_f)\n",
    "integrate_f_pythran = jit(backend=\"pythran\")(integrate_f)"
   ]
  },
  {
   "cell_type": "markdown",
   "metadata": {},
   "source": [
    "We achieve our result by using apply (row-wise):"
   ]
  },
  {
   "cell_type": "code",
   "execution_count": null,
   "metadata": {},
   "outputs": [],
   "source": [
    "%timeit df.apply(lambda x: integrate_f(x['a'], x['b'], x['N']), axis=1)"
   ]
  },
  {
   "cell_type": "markdown",
   "metadata": {},
   "source": [
    "Let's take a look and see where the time is spent during this operation (limited to the most time consuming four calls) using the prun ipython magic function:"
   ]
  },
  {
   "cell_type": "code",
   "execution_count": null,
   "metadata": {},
   "outputs": [],
   "source": [
    "%prun -l 4 df.apply(lambda x: integrate_f(x['a'], x['b'], x['N']), axis=1)"
   ]
  },
  {
   "cell_type": "markdown",
   "metadata": {},
   "source": [
    "## Enter: `transonic`"
   ]
  },
  {
   "cell_type": "code",
   "execution_count": null,
   "metadata": {},
   "outputs": [],
   "source": [
    "from transonic import wait_for_all_extensions\n",
    "from transonic.util import print_versions, timeit_verbose\n",
    "\n",
    "print_versions()"
   ]
  },
  {
   "cell_type": "markdown",
   "metadata": {},
   "source": [
    "## Cython + transonic"
   ]
  },
  {
   "cell_type": "code",
   "execution_count": null,
   "metadata": {},
   "outputs": [],
   "source": [
    "# warmup\n",
    "df.apply(lambda x: integrate_f_cython(x['a'], x['b'], x['N']), axis=1)\n",
    "wait_for_all_extensions()\n",
    "\n",
    "# benchmark\n",
    "%timeit df.apply(lambda x: integrate_f_cython(x['a'], x['b'], x['N']), axis=1)"
   ]
  },
  {
   "cell_type": "markdown",
   "metadata": {},
   "source": [
    "## Numba + transonic"
   ]
  },
  {
   "cell_type": "code",
   "execution_count": null,
   "metadata": {},
   "outputs": [],
   "source": [
    "# warmup\n",
    "df.apply(lambda x: integrate_f_numba(x['a'], x['b'], x['N']), axis=1)\n",
    "wait_for_all_extensions()\n",
    "\n",
    "# benchmark\n",
    "%timeit df.apply(lambda x: integrate_f_numba(x['a'], x['b'], x['N']), axis=1)"
   ]
  },
  {
   "cell_type": "markdown",
   "metadata": {},
   "source": [
    "## Pythran + transonic"
   ]
  },
  {
   "cell_type": "code",
   "execution_count": null,
   "metadata": {},
   "outputs": [],
   "source": [
    "# warmup\n",
    "df.apply(lambda x: integrate_f_pythran(x['a'], x['b'], x['N']), axis=1)\n",
    "wait_for_all_extensions()\n",
    "\n",
    "# benchmark\n",
    "%timeit df.apply(lambda x: integrate_f_pythran(x['a'], x['b'], x['N']), axis=1)"
   ]
  },
  {
   "cell_type": "markdown",
   "metadata": {},
   "source": [
    "## Cython + types + transonic"
   ]
  },
  {
   "cell_type": "code",
   "execution_count": null,
   "metadata": {},
   "outputs": [],
   "source": [
    "%%file _pandas_cython_boost.py\n",
    "from transonic import boost\n",
    "\n",
    "@boost(backend=\"cython\", inline=True)\n",
    "def f_typed(x: float):\n",
    "    return x * (x - 1)\n",
    "\n",
    "\n",
    "@boost(backend=\"cython\")\n",
    "def integrate_f_typed(a: float, b: float, N: int):\n",
    "    i: int\n",
    "    s: float\n",
    "    dx: float = (b - a) / N\n",
    "    s = 0\n",
    "    for i in range(N):\n",
    "        s += f_typed(a + i * dx)\n",
    "    return s * dx"
   ]
  },
  {
   "cell_type": "code",
   "execution_count": null,
   "metadata": {},
   "outputs": [],
   "source": [
    "!transonic -b cython _pandas_cython_boost.py"
   ]
  },
  {
   "cell_type": "code",
   "execution_count": null,
   "metadata": {},
   "outputs": [],
   "source": [
    "from transonic import set_compile_at_import, wait_for_all_extensions\n",
    "\n",
    "set_compile_at_import(True)"
   ]
  },
  {
   "cell_type": "code",
   "execution_count": null,
   "metadata": {},
   "outputs": [],
   "source": [
    "from _pandas_cython_boost import integrate_f_typed\n",
    "\n",
    "wait_for_all_extensions()\n",
    "\n",
    "# benchmark\n",
    "%timeit df.apply(lambda x: integrate_f_typed(x['a'], x['b'], x['N']), axis=1)"
   ]
  }
 ],
 "metadata": {
  "kernelspec": {
   "display_name": "Python 3",
   "language": "python",
   "name": "python3"
  },
  "language_info": {
   "codemirror_mode": {
    "name": "ipython",
    "version": 3
   },
   "file_extension": ".py",
   "mimetype": "text/x-python",
   "name": "python",
   "nbconvert_exporter": "python",
   "pygments_lexer": "ipython3",
   "version": "3.7.5"
  }
 },
 "nbformat": 4,
 "nbformat_minor": 4
}
