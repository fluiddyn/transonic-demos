{
 "cells": [
  {
   "cell_type": "markdown",
   "metadata": {},
   "source": [
    "# Pair-wise distances\n",
    "Python can be easily interfaced with other programming languages. Here we compute the euclidean distance matrix with componenents\n",
    "$r_{ij} = \\left\\| \\mathbf{ r_i} -  \\mathbf{ r_j}  \\right\\|$ using FORTRAN. It is possible to seamlessly compile and run FORTRAN code within a Jupyter notebook (similarly to Cython or Pythran) using a magic command, namely ```%load_ext fortranmagic```. This requires the installation of the ```fortran-magic``` library. In a command line interface type ```pip install fortran-magic```"
   ]
  },
  {
   "cell_type": "markdown",
   "metadata": {},
   "source": [
    "Load external libraries."
   ]
  },
  {
   "cell_type": "code",
   "execution_count": 1,
   "metadata": {},
   "outputs": [],
   "source": [
    "import math\n",
    "import numpy as np\n",
    "import numexpr as ne\n",
    "import numba as nb\n",
    "import matplotlib.pyplot as plt\n",
    "from scipy.spatial.distance import pdist\n",
    "import os\n",
    "n_cpu = os.cpu_count()"
   ]
  },
  {
   "cell_type": "code",
   "execution_count": 2,
   "metadata": {},
   "outputs": [],
   "source": [
    "# Atomic coordinates within cluster\n",
    "coords = np.loadtxt(\"Au.xyz\")\n",
    "N, dim = np.shape(coords) #Extract the number of atoms and the number of dimensions"
   ]
  },
  {
   "cell_type": "markdown",
   "metadata": {},
   "source": [
    "## Cython implementation"
   ]
  },
  {
   "cell_type": "code",
   "execution_count": 3,
   "metadata": {},
   "outputs": [],
   "source": [
    "%load_ext Cython"
   ]
  },
  {
   "cell_type": "code",
   "execution_count": 4,
   "metadata": {},
   "outputs": [],
   "source": [
    "%%cython --compile-args=-fopenmp --link-args=-fopenmp\n",
    "import numpy as np\n",
    "from cython.parallel import prange\n",
    "import cython\n",
    "\n",
    "from libc.math cimport sqrt\n",
    "\n",
    "@cython.wraparound(False)\n",
    "@cython.boundscheck(False)\n",
    "def r_ij_cython(double[:,::1] coords):\n",
    "    cdef:\n",
    "        double[::1] r\n",
    "        double tmp\n",
    "        int i,j,k,l\n",
    "        int N = coords.shape[0]\n",
    "        int dim = coords.shape[1]\n",
    "    \n",
    "    r = np.zeros(int((N*N-N)/2), dtype=np.float64)\n",
    "    for i in prange(N, nogil=True):\n",
    "        for j in range(i+1,N):\n",
    "            l = int(i * (N - 1) - i * (i + 1) / 2 + j - 1)\n",
    "            tmp = 0.0\n",
    "            for k in range(3):\n",
    "                tmp = tmp + (coords[i,k]-coords[j,k])**2\n",
    "            r[l] = sqrt(tmp)\n",
    "    return r"
   ]
  },
  {
   "cell_type": "code",
   "execution_count": 5,
   "metadata": {},
   "outputs": [
    {
     "name": "stdout",
     "output_type": "stream",
     "text": [
      "100 loops, best of 3: 11.9 ms per loop\n"
     ]
    }
   ],
   "source": [
    "%timeit r_ij_cython(coords)\n",
    "r_ij_ct = np.asarray(r_ij_cython(coords))"
   ]
  },
  {
   "cell_type": "markdown",
   "metadata": {},
   "source": [
    "## Fortran implementation"
   ]
  },
  {
   "cell_type": "code",
   "execution_count": 6,
   "metadata": {},
   "outputs": [
    {
     "data": {
      "application/javascript": [
       "$.getScript(\"https://raw.github.com/marijnh/CodeMirror/master/mode/fortran/fortran.js\", function () {\n",
       "IPython.config.cell_magic_highlight['magic_fortran'] = {'reg':[/^%%fortran/]};});\n"
      ]
     },
     "metadata": {},
     "output_type": "display_data"
    }
   ],
   "source": [
    "%load_ext fortranmagic"
   ]
  },
  {
   "cell_type": "code",
   "execution_count": 7,
   "metadata": {},
   "outputs": [],
   "source": [
    "%%fortran --f90flags='-fopenmp' --extra='-lgomp'\n",
    "subroutine getrij(coords,r, N, M)\n",
    "\n",
    "    use iso_c_binding, only: c_double, c_int\n",
    "    use omp_lib\n",
    "    implicit none\n",
    "    \n",
    "    real*8, dimension(N*3), intent(in)    :: coords\n",
    "    real*8, dimension(M),   intent(inout) :: r\n",
    "    integer(c_int),         intent(in)    :: N\n",
    "    integer(c_int),         intent(in)   :: M\n",
    "\n",
    "    integer :: i,j,k,l,ii,jj\n",
    "    real(c_double) :: tmp\n",
    "    \n",
    "    l = 0\n",
    "    !$OMP PARALLEL DO\n",
    "    do i = 0 , N-1\n",
    "        ii = i * 3\n",
    "        do j = i + 1 , N-1\n",
    "            jj = j * 3\n",
    "            tmp = 0.0\n",
    "            do k = 1 , 3\n",
    "                tmp = tmp + (coords(ii+k) - coords(jj+k)) ** 2\n",
    "            end do\n",
    "            l = 1 + (i * (N - 1) - i * (i + 1) / 2 + j - 1)\n",
    "            r(l) = sqrt(tmp)\n",
    "        end do\n",
    "    end do\n",
    "\n",
    "end subroutine getrij"
   ]
  },
  {
   "cell_type": "code",
   "execution_count": 8,
   "metadata": {},
   "outputs": [
    {
     "name": "stdout",
     "output_type": "stream",
     "text": [
      "Is the result correct: True\n",
      "100 loops, best of 3: 10.2 ms per loop\n"
     ]
    }
   ],
   "source": [
    "def r_ij_fortran(coords):\n",
    "    N = coords.shape[0]\n",
    "    M = (N * N - N) // 2\n",
    "    r = np.zeros(M, dtype=np.float64, order='F')\n",
    "    getrij(coords.ravel(),  r, N, M)\n",
    "    return r\n",
    "  \n",
    "print(\"Is the result correct:\",np.allclose(r_ij_fortran(coords), r_ij_ct))\n",
    "%timeit r_ij_fortran(coords)"
   ]
  }
 ],
 "metadata": {
  "kernel_info": {
   "name": "python3"
  },
  "kernelspec": {
   "display_name": "Python 3",
   "language": "python",
   "name": "python3"
  },
  "language_info": {
   "codemirror_mode": {
    "name": "ipython",
    "version": 3
   },
   "file_extension": ".py",
   "mimetype": "text/x-python",
   "name": "python",
   "nbconvert_exporter": "python",
   "pygments_lexer": "ipython3",
   "version": "3.6.7"
  },
  "nteract": {
   "version": "0.14.3"
  }
 },
 "nbformat": 4,
 "nbformat_minor": 2
}
